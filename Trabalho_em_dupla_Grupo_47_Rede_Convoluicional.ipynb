{
  "cells": [
    {
      "cell_type": "markdown",
      "metadata": {
        "id": "view-in-github",
        "colab_type": "text"
      },
      "source": [
        "<a href=\"https://colab.research.google.com/github/isisCarolineLima/Redes_Convolucionais/blob/main/Trabalho_em_dupla_Grupo_47_Rede_Convoluicional.ipynb\" target=\"_parent\"><img src=\"https://colab.research.google.com/assets/colab-badge.svg\" alt=\"Open In Colab\"/></a>"
      ]
    },
    {
      "cell_type": "markdown",
      "source": [
        "#🎲 Projeto: Implementação e Análise do Algoritmo de Redes Convolucionais\n",
        "\n",
        "INTEGRANTES: Isis Caroline Lima Viana e Marco Antonio Oliveira Santos"
      ],
      "metadata": {
        "id": "0AhT73O-QTsQ"
      }
    },
    {
      "cell_type": "markdown",
      "source": [
        "#### 📂 Carregando o Dataset"
      ],
      "metadata": {
        "id": "-THK9C_sucJd"
      }
    },
    {
      "cell_type": "code",
      "source": [
        "#Ponto de partida\n",
        "import os\n",
        "\n",
        "!pip install kaggle\n",
        "!kaggle datasets download -d arbazkhan971/cuhk-face-sketch-database-cufs --force\n",
        "!unzip -oq \"cuhk-face-sketch-database-cufs.zip\"\n",
        "\n",
        "def list_files_in_folder(folder_path):\n",
        "  \"\"\"Lists all files in a given folder.\"\"\"\n",
        "  try:\n",
        "    file_list = os.listdir(folder_path)\n",
        "    return file_list\n",
        "  except FileNotFoundError:\n",
        "    print(f\"Error: Folder not found at {folder_path}\")\n",
        "    return []\n",
        "\n",
        "photos_folder = \"photos\"\n",
        "files_in_photos = list_files_in_folder(photos_folder)"
      ],
      "metadata": {
        "colab": {
          "base_uri": "https://localhost:8080/"
        },
        "id": "i3isREVkbuoX",
        "outputId": "dc27810d-06ac-4536-a314-338502f3385e"
      },
      "execution_count": 50,
      "outputs": [
        {
          "output_type": "stream",
          "name": "stdout",
          "text": [
            "Requirement already satisfied: kaggle in /usr/local/lib/python3.10/dist-packages (1.6.17)\n",
            "Requirement already satisfied: six>=1.10 in /usr/local/lib/python3.10/dist-packages (from kaggle) (1.16.0)\n",
            "Requirement already satisfied: certifi>=2023.7.22 in /usr/local/lib/python3.10/dist-packages (from kaggle) (2024.8.30)\n",
            "Requirement already satisfied: python-dateutil in /usr/local/lib/python3.10/dist-packages (from kaggle) (2.8.2)\n",
            "Requirement already satisfied: requests in /usr/local/lib/python3.10/dist-packages (from kaggle) (2.32.3)\n",
            "Requirement already satisfied: tqdm in /usr/local/lib/python3.10/dist-packages (from kaggle) (4.66.6)\n",
            "Requirement already satisfied: python-slugify in /usr/local/lib/python3.10/dist-packages (from kaggle) (8.0.4)\n",
            "Requirement already satisfied: urllib3 in /usr/local/lib/python3.10/dist-packages (from kaggle) (2.2.3)\n",
            "Requirement already satisfied: bleach in /usr/local/lib/python3.10/dist-packages (from kaggle) (6.2.0)\n",
            "Requirement already satisfied: webencodings in /usr/local/lib/python3.10/dist-packages (from bleach->kaggle) (0.5.1)\n",
            "Requirement already satisfied: text-unidecode>=1.3 in /usr/local/lib/python3.10/dist-packages (from python-slugify->kaggle) (1.3)\n",
            "Requirement already satisfied: charset-normalizer<4,>=2 in /usr/local/lib/python3.10/dist-packages (from requests->kaggle) (3.4.0)\n",
            "Requirement already satisfied: idna<4,>=2.5 in /usr/local/lib/python3.10/dist-packages (from requests->kaggle) (3.10)\n",
            "Dataset URL: https://www.kaggle.com/datasets/arbazkhan971/cuhk-face-sketch-database-cufs\n",
            "License(s): copyright-authors\n",
            "Downloading cuhk-face-sketch-database-cufs.zip to /content\n",
            " 80% 91.0M/113M [00:00<00:00, 249MB/s]\n",
            "100% 113M/113M [00:00<00:00, 205MB/s] \n"
          ]
        }
      ]
    },
    {
      "cell_type": "code",
      "source": [
        "print(files_in_photos)\n",
        "print(len(files_in_photos))"
      ],
      "metadata": {
        "colab": {
          "base_uri": "https://localhost:8080/"
        },
        "id": "Mx_JckLVe8YH",
        "outputId": "081783a3-9e9c-4957-c912-38fb31991ef0"
      },
      "execution_count": 51,
      "outputs": [
        {
          "output_type": "stream",
          "name": "stdout",
          "text": [
            "['m1-011-01.jpg', 'm-039-01.jpg', 'm-065-01.jpg', 'm1-037-01.jpg', 'm-044-01.jpg', 'f1-004-01.jpg', 'm1-039-01.jpg', 'm-038-01.jpg', 'm-099-01.jpg', 'm1-005-01.jpg', 'm-016-01.jpg', 'm1-007-01.jpg', 'm-073-01.jpg', 'f-043-01.jpg', 'f-010-01.jpg', 'm-015-01.jpg', 'm-085-01.jpg', 'm-034-01.jpg', 'm1-028-01.jpg', 'm-049-01.jpg', 'm-091-01.jpg', 'm1-036-01.jpg', 'm-018-01.jpg', 'm-077-01.jpg', 'f-033-01.jpg', 'm-097-01.jpg', 'm-095-01.jpg', 'm-031-01.jpg', 'f-027-01.jpg', 'm-027-01.jpg', 'm-025-01.jpg', 'f-018-01.jpg', 'f1-011-01.jpg', 'f-024-01.jpg', 'm-089-01.jpg', 'f1-012-01.jpg', 'm-096-01.jpg', 'f-026-01.jpg', 'm1-023-01.jpg', 'm-041-01.jpg', 'f-039-01.jpg', 'm-010-01.jpg', 'f1-007-01.jpg', 'm-071-01.jpg', 'f1-001-01.jpg', 'm1-017-01.jpg', 'm-069-01.jpg', 'f-008-01.jpg', 'm-014-01.jpg', 'm-075-01.jpg', 'f1-010-01.jpg', 'm-052-01.jpg', 'm-061-01.jpg', 'm-019-01.jpg', 'f-022-01.jpg', 'm1-024-01.jpg', 'm-050-01.jpg', 'm-029-01.jpg', 'm1-038-01.jpg', 'f-005-01.jpg', 'm-037-01.jpg', 'm1-013-01.jpg', 'm-047-01.jpg', 'm-032-01.jpg', 'f1-014-01.jpg', 'm-086-01.jpg', 'm-040-01.jpg', 'm1-030-01.jpg', 'm-101-01.jpg', 'm-074-01.jpg', 'm-026-01.jpg', 'f-031-01.jpg', 'm-046-01.jpg', 'm-030-01.jpg', 'm-023-01.jpg', 'm-058-01.jpg', 'f-011-01.jpg', 'm-054-01.jpg', 'm1-006-01.jpg', 'f-028-01.jpg', 'f-006-01.jpg', 'm1-033-01.jpg', 'm1-027-01.jpg', 'm-022-01.jpg', 'm-090-01.jpg', 'f-019-01.jpg', 'f-016-01.jpg', 'm-056-01.jpg', 'm1-016-01.jpg', 'm-083-01.jpg', 'm-036-01.jpg', 'f-040-01.jpg', 'm1-003-01.jpg', 'f-036-01.jpg', 'm-012-01.jpg', 'm-024-01.jpg', 'm-098-01.jpg', 'm1-026-01.jpg', 'm-035-01.jpg', 'f1-015-01.jpg', 'm-060-01.jpg', 'm-042-01.jpg', 'm-011-01.jpg', 'm-087-01.jpg', 'm1-040-01.jpg', 'm-063-01.jpg', 'm-028-01.jpg', 'm-072-01.jpg', 'm-064-01.jpg', 'm1-020-01.jpg', 'm-081-01.jpg', 'f-007-01.jpg', 'm-094-01.jpg', 'm1-031-01.jpg', 'f-014-01.jpg', 'f-023-01.jpg', 'f-035-01.jpg', 'f1-005-01.jpg', 'm1-014-01.jpg', 'm-021-01.jpg', 'm1-035-01.jpg', 'f-020-01.jpg', 'm1-009-01.jpg', 'm-093-01.jpg', 'm1-012-01.jpg', 'm-070-01.jpg', 'm-043-01.jpg', 'm1-021-01.jpg', 'm-068-01.jpg', 'm-076-01.jpg', 'f-021-01.jpg', 'f1-006-01.jpg', 'm-078-01.jpg', 'm-048-01.jpg', 'm-045-01.jpg', 'm-013-01.jpg', 'm-079-01.jpg', 'f-042-01.jpg', 'f-015-01.jpg', 'm-009-01.jpg', 'm-055-01.jpg', 'f1-002-01.jpg', 'm-017-01.jpg', 'm1-008-01.jpg', 'f-017-01.jpg', 'f1-009-01.jpg', 'm1-034-01.jpg', 'm1-010-01.jpg', 'm-057-01.jpg', 'm-080-01.jpg', 'm-053-01.jpg', 'f-009-01.jpg', 'f1-003-01.jpg', 'm1-015-01.jpg', 'm-092-01.jpg', 'm-066-01.jpg', 'm1-002-01.jpg', 'm-051-01.jpg', 'f-029-01.jpg', 'm1-025-01.jpg', 'm-084-01.jpg', 'm-088-01.jpg', 'f-013-01.jpg', 'm-100-01.jpg', 'm-059-01.jpg', 'm-067-01.jpg', 'f-025-01.jpg', 'm1-019-01.jpg', 'm-033-01.jpg', 'm1-001-01.jpg', 'm1-041-01.jpg', 'f-032-01.jpg', 'm1-029-01.jpg', 'f-037-01.jpg', 'f1-013-01.jpg', 'f-038-01.jpg', 'm-008-01.jpg', 'm1-018-01.jpg', 'f-034-01.jpg', 'm1-032-01.jpg', 'f1-008-01.jpg', 'm-062-01.jpg', 'f-012-01.jpg', 'm1-022-01.jpg', 'f-041-01.jpg', 'm1-004-01.jpg', 'm-082-01.jpg', 'f-030-01.jpg']\n",
            "188\n"
          ]
        }
      ]
    },
    {
      "cell_type": "markdown",
      "source": [
        "#### 🏷️ Rotulando os Dados"
      ],
      "metadata": {
        "id": "T4fm0nJ4uNBb"
      }
    },
    {
      "cell_type": "code",
      "source": [
        "# Criando a lista de rótulos\n",
        "def create_labels(file_list):\n",
        "    \"\"\"\n",
        "    Cria uma lista de rótulos para os arquivos.\n",
        "    0 - Masculino (arquivos começando com 'm')\n",
        "    1 - Feminino (arquivos começando com 'f')\n",
        "    \"\"\"\n",
        "    labels = []\n",
        "    for file in file_list:\n",
        "        if file.lower().startswith('m'):\n",
        "            labels.append(0)  # Masculino\n",
        "        elif file.lower().startswith('f'):\n",
        "            labels.append(1)  # Feminino\n",
        "        else:\n",
        "            print(f\"Aviso: Arquivo '{file}' não categorizado\")\n",
        "    return labels\n",
        "\n",
        "# Chamando a função para os arquivos na pasta\n",
        "labels = create_labels(files_in_photos)\n",
        "\n",
        "# Exibindo os rótulos\n",
        "print(\"Rótulos gerados:\")\n",
        "for file, label in zip(files_in_photos, labels):\n",
        "    print(f\"{file}: {label}\")"
      ],
      "metadata": {
        "colab": {
          "base_uri": "https://localhost:8080/"
        },
        "id": "krcKtcEGhj_M",
        "outputId": "bcf6ded6-304f-4250-ed11-f4ba53239bf6"
      },
      "execution_count": 52,
      "outputs": [
        {
          "output_type": "stream",
          "name": "stdout",
          "text": [
            "Rótulos gerados:\n",
            "m1-011-01.jpg: 0\n",
            "m-039-01.jpg: 0\n",
            "m-065-01.jpg: 0\n",
            "m1-037-01.jpg: 0\n",
            "m-044-01.jpg: 0\n",
            "f1-004-01.jpg: 1\n",
            "m1-039-01.jpg: 0\n",
            "m-038-01.jpg: 0\n",
            "m-099-01.jpg: 0\n",
            "m1-005-01.jpg: 0\n",
            "m-016-01.jpg: 0\n",
            "m1-007-01.jpg: 0\n",
            "m-073-01.jpg: 0\n",
            "f-043-01.jpg: 1\n",
            "f-010-01.jpg: 1\n",
            "m-015-01.jpg: 0\n",
            "m-085-01.jpg: 0\n",
            "m-034-01.jpg: 0\n",
            "m1-028-01.jpg: 0\n",
            "m-049-01.jpg: 0\n",
            "m-091-01.jpg: 0\n",
            "m1-036-01.jpg: 0\n",
            "m-018-01.jpg: 0\n",
            "m-077-01.jpg: 0\n",
            "f-033-01.jpg: 1\n",
            "m-097-01.jpg: 0\n",
            "m-095-01.jpg: 0\n",
            "m-031-01.jpg: 0\n",
            "f-027-01.jpg: 1\n",
            "m-027-01.jpg: 0\n",
            "m-025-01.jpg: 0\n",
            "f-018-01.jpg: 1\n",
            "f1-011-01.jpg: 1\n",
            "f-024-01.jpg: 1\n",
            "m-089-01.jpg: 0\n",
            "f1-012-01.jpg: 1\n",
            "m-096-01.jpg: 0\n",
            "f-026-01.jpg: 1\n",
            "m1-023-01.jpg: 0\n",
            "m-041-01.jpg: 0\n",
            "f-039-01.jpg: 1\n",
            "m-010-01.jpg: 0\n",
            "f1-007-01.jpg: 1\n",
            "m-071-01.jpg: 0\n",
            "f1-001-01.jpg: 1\n",
            "m1-017-01.jpg: 0\n",
            "m-069-01.jpg: 0\n",
            "f-008-01.jpg: 1\n",
            "m-014-01.jpg: 0\n",
            "m-075-01.jpg: 0\n",
            "f1-010-01.jpg: 1\n",
            "m-052-01.jpg: 0\n",
            "m-061-01.jpg: 0\n",
            "m-019-01.jpg: 0\n",
            "f-022-01.jpg: 1\n",
            "m1-024-01.jpg: 0\n",
            "m-050-01.jpg: 0\n",
            "m-029-01.jpg: 0\n",
            "m1-038-01.jpg: 0\n",
            "f-005-01.jpg: 1\n",
            "m-037-01.jpg: 0\n",
            "m1-013-01.jpg: 0\n",
            "m-047-01.jpg: 0\n",
            "m-032-01.jpg: 0\n",
            "f1-014-01.jpg: 1\n",
            "m-086-01.jpg: 0\n",
            "m-040-01.jpg: 0\n",
            "m1-030-01.jpg: 0\n",
            "m-101-01.jpg: 0\n",
            "m-074-01.jpg: 0\n",
            "m-026-01.jpg: 0\n",
            "f-031-01.jpg: 1\n",
            "m-046-01.jpg: 0\n",
            "m-030-01.jpg: 0\n",
            "m-023-01.jpg: 0\n",
            "m-058-01.jpg: 0\n",
            "f-011-01.jpg: 1\n",
            "m-054-01.jpg: 0\n",
            "m1-006-01.jpg: 0\n",
            "f-028-01.jpg: 1\n",
            "f-006-01.jpg: 1\n",
            "m1-033-01.jpg: 0\n",
            "m1-027-01.jpg: 0\n",
            "m-022-01.jpg: 0\n",
            "m-090-01.jpg: 0\n",
            "f-019-01.jpg: 1\n",
            "f-016-01.jpg: 1\n",
            "m-056-01.jpg: 0\n",
            "m1-016-01.jpg: 0\n",
            "m-083-01.jpg: 0\n",
            "m-036-01.jpg: 0\n",
            "f-040-01.jpg: 1\n",
            "m1-003-01.jpg: 0\n",
            "f-036-01.jpg: 1\n",
            "m-012-01.jpg: 0\n",
            "m-024-01.jpg: 0\n",
            "m-098-01.jpg: 0\n",
            "m1-026-01.jpg: 0\n",
            "m-035-01.jpg: 0\n",
            "f1-015-01.jpg: 1\n",
            "m-060-01.jpg: 0\n",
            "m-042-01.jpg: 0\n",
            "m-011-01.jpg: 0\n",
            "m-087-01.jpg: 0\n",
            "m1-040-01.jpg: 0\n",
            "m-063-01.jpg: 0\n",
            "m-028-01.jpg: 0\n",
            "m-072-01.jpg: 0\n",
            "m-064-01.jpg: 0\n",
            "m1-020-01.jpg: 0\n",
            "m-081-01.jpg: 0\n",
            "f-007-01.jpg: 1\n",
            "m-094-01.jpg: 0\n",
            "m1-031-01.jpg: 0\n",
            "f-014-01.jpg: 1\n",
            "f-023-01.jpg: 1\n",
            "f-035-01.jpg: 1\n",
            "f1-005-01.jpg: 1\n",
            "m1-014-01.jpg: 0\n",
            "m-021-01.jpg: 0\n",
            "m1-035-01.jpg: 0\n",
            "f-020-01.jpg: 1\n",
            "m1-009-01.jpg: 0\n",
            "m-093-01.jpg: 0\n",
            "m1-012-01.jpg: 0\n",
            "m-070-01.jpg: 0\n",
            "m-043-01.jpg: 0\n",
            "m1-021-01.jpg: 0\n",
            "m-068-01.jpg: 0\n",
            "m-076-01.jpg: 0\n",
            "f-021-01.jpg: 1\n",
            "f1-006-01.jpg: 1\n",
            "m-078-01.jpg: 0\n",
            "m-048-01.jpg: 0\n",
            "m-045-01.jpg: 0\n",
            "m-013-01.jpg: 0\n",
            "m-079-01.jpg: 0\n",
            "f-042-01.jpg: 1\n",
            "f-015-01.jpg: 1\n",
            "m-009-01.jpg: 0\n",
            "m-055-01.jpg: 0\n",
            "f1-002-01.jpg: 1\n",
            "m-017-01.jpg: 0\n",
            "m1-008-01.jpg: 0\n",
            "f-017-01.jpg: 1\n",
            "f1-009-01.jpg: 1\n",
            "m1-034-01.jpg: 0\n",
            "m1-010-01.jpg: 0\n",
            "m-057-01.jpg: 0\n",
            "m-080-01.jpg: 0\n",
            "m-053-01.jpg: 0\n",
            "f-009-01.jpg: 1\n",
            "f1-003-01.jpg: 1\n",
            "m1-015-01.jpg: 0\n",
            "m-092-01.jpg: 0\n",
            "m-066-01.jpg: 0\n",
            "m1-002-01.jpg: 0\n",
            "m-051-01.jpg: 0\n",
            "f-029-01.jpg: 1\n",
            "m1-025-01.jpg: 0\n",
            "m-084-01.jpg: 0\n",
            "m-088-01.jpg: 0\n",
            "f-013-01.jpg: 1\n",
            "m-100-01.jpg: 0\n",
            "m-059-01.jpg: 0\n",
            "m-067-01.jpg: 0\n",
            "f-025-01.jpg: 1\n",
            "m1-019-01.jpg: 0\n",
            "m-033-01.jpg: 0\n",
            "m1-001-01.jpg: 0\n",
            "m1-041-01.jpg: 0\n",
            "f-032-01.jpg: 1\n",
            "m1-029-01.jpg: 0\n",
            "f-037-01.jpg: 1\n",
            "f1-013-01.jpg: 1\n",
            "f-038-01.jpg: 1\n",
            "m-008-01.jpg: 0\n",
            "m1-018-01.jpg: 0\n",
            "f-034-01.jpg: 1\n",
            "m1-032-01.jpg: 0\n",
            "f1-008-01.jpg: 1\n",
            "m-062-01.jpg: 0\n",
            "f-012-01.jpg: 1\n",
            "m1-022-01.jpg: 0\n",
            "f-041-01.jpg: 1\n",
            "m1-004-01.jpg: 0\n",
            "m-082-01.jpg: 0\n",
            "f-030-01.jpg: 1\n"
          ]
        }
      ]
    },
    {
      "cell_type": "markdown",
      "source": [
        "#### 📐 Redimensionando as imagens"
      ],
      "metadata": {
        "id": "PG-TUcKttJhp"
      }
    },
    {
      "cell_type": "code",
      "source": [
        "import cv2\n",
        "import numpy as np\n",
        "from sklearn.model_selection import train_test_split\n",
        "\n",
        "# Função para carregar e preprocessar as imagens\n",
        "def load_and_preprocess_images(folder_path, labels, target_size=(250, 200)):\n",
        "    \"\"\"\n",
        "    Carrega as imagens, redimensiona e normaliza os valores RGB.\n",
        "    \"\"\"\n",
        "    images = []\n",
        "    processed_labels = []\n",
        "    for file, label in zip(os.listdir(folder_path), labels):\n",
        "        file_path = os.path.join(folder_path, file)\n",
        "        # Lê a imagem usando OpenCV\n",
        "        image = cv2.imread(file_path)\n",
        "        if image is not None:\n",
        "            # Redimensiona a imagem\n",
        "            resized_image = cv2.resize(image, (target_size[1], target_size[0]))\n",
        "            # Normaliza os valores RGB para [0, 1]\n",
        "            normalized_image = resized_image / 255.0\n",
        "            images.append(normalized_image)\n",
        "            processed_labels.append(label)\n",
        "    return np.array(images), np.array(processed_labels)\n",
        "\n",
        "# Carregando e preprocessando as imagens\n",
        "photos_folder = \"photos\"\n",
        "images, labels = load_and_preprocess_images(photos_folder, create_labels(files_in_photos))\n"
      ],
      "metadata": {
        "id": "EqwuqDcpjYrd"
      },
      "execution_count": 53,
      "outputs": []
    },
    {
      "cell_type": "markdown",
      "source": [
        "#### 🔄 Divisão dos Dados"
      ],
      "metadata": {
        "id": "lm-LWUJpt4Lk"
      }
    },
    {
      "cell_type": "code",
      "source": [
        "# Divisão do dataset\n",
        "SEED = 23\n",
        "\n",
        "# Divisão em treino (50%) e conjunto de validação+teste (50%)\n",
        "X_train, X_temp, y_train, y_temp = train_test_split(images, labels, test_size=0.5, random_state=SEED)\n",
        "\n",
        "# Divisão do conjunto de validação+teste em validação (30%) e teste (20%)\n",
        "X_val, X_test, y_val, y_test = train_test_split(X_temp, y_temp, test_size=0.4, random_state=SEED)\n",
        "\n",
        "# Exibindo as dimensões de cada conjunto\n",
        "print(f\"Treinamento: {X_train.shape}, {y_train.shape}\")\n",
        "print(f\"Validação: {X_val.shape}, {y_val.shape}\")\n",
        "print(f\"Teste: {X_test.shape}, {y_test.shape}\")"
      ],
      "metadata": {
        "colab": {
          "base_uri": "https://localhost:8080/"
        },
        "id": "Ju7u8erhtI3f",
        "outputId": "0087e237-a333-4883-90f4-754487da08e1"
      },
      "execution_count": 54,
      "outputs": [
        {
          "output_type": "stream",
          "name": "stdout",
          "text": [
            "Treinamento: (94, 250, 200, 3), (94,)\n",
            "Validação: (56, 250, 200, 3), (56,)\n",
            "Teste: (38, 250, 200, 3), (38,)\n"
          ]
        }
      ]
    },
    {
      "cell_type": "markdown",
      "source": [
        "#### 🏋️‍♂️ Treinamento do Modelo\n",
        "\n"
      ],
      "metadata": {
        "id": "qNRxdVcAX3VT"
      }
    },
    {
      "cell_type": "code",
      "source": [
        "import tensorflow as tf\n",
        "from tensorflow.keras import layers, models\n",
        "\n",
        "# Definindo o modelo CNN\n",
        "def create_cnn(input_shape):\n",
        "    model = models.Sequential()\n",
        "\n",
        "    # Primeira camada convolucional\n",
        "    model.add(layers.Conv2D(32, (3, 3), activation='relu', input_shape=input_shape))\n",
        "    model.add(layers.MaxPooling2D((2, 2)))\n",
        "\n",
        "    # Segunda camada convolucional\n",
        "    model.add(layers.Conv2D(64, (3, 3), activation='relu'))\n",
        "    model.add(layers.MaxPooling2D((2, 2)))\n",
        "\n",
        "    # Terceira camada convolucional\n",
        "    model.add(layers.Conv2D(128, (3, 3), activation='relu'))\n",
        "    model.add(layers.MaxPooling2D((2, 2)))\n",
        "\n",
        "    # Camada Flatten para achatar os dados\n",
        "    model.add(layers.Flatten())\n",
        "\n",
        "    # Camada densa totalmente conectada\n",
        "    model.add(layers.Dense(128, activation='relu'))\n",
        "\n",
        "    # Camada de saída com duas classes (0 e 1)\n",
        "    model.add(layers.Dense(1, activation='sigmoid'))  # Sigmoid para saída binária (Masculino/Feminino)\n",
        "\n",
        "    return model"
      ],
      "metadata": {
        "id": "xkYXB4rLkDNN"
      },
      "execution_count": 55,
      "outputs": []
    },
    {
      "cell_type": "code",
      "source": [
        "# Criando e compilando o modelo\n",
        "input_shape = (250, 200, 3)  # Altura, largura, canais de cor (RGB)\n",
        "cnn_model = create_cnn(input_shape)\n",
        "\n",
        "cnn_model.compile(optimizer='adam',\n",
        "                  loss='binary_crossentropy',\n",
        "                  metrics=['accuracy'])\n",
        "\n",
        "cnn_model.summary()"
      ],
      "metadata": {
        "colab": {
          "base_uri": "https://localhost:8080/",
          "height": 417
        },
        "id": "Lbjwe_OFmary",
        "outputId": "289cd8e9-9ce9-45f6-cb46-dcb8b7ad8df8"
      },
      "execution_count": 56,
      "outputs": [
        {
          "output_type": "display_data",
          "data": {
            "text/plain": [
              "\u001b[1mModel: \"sequential_14\"\u001b[0m\n"
            ],
            "text/html": [
              "<pre style=\"white-space:pre;overflow-x:auto;line-height:normal;font-family:Menlo,'DejaVu Sans Mono',consolas,'Courier New',monospace\"><span style=\"font-weight: bold\">Model: \"sequential_14\"</span>\n",
              "</pre>\n"
            ]
          },
          "metadata": {}
        },
        {
          "output_type": "display_data",
          "data": {
            "text/plain": [
              "┏━━━━━━━━━━━━━━━━━━━━━━━━━━━━━━━━━━━━━━┳━━━━━━━━━━━━━━━━━━━━━━━━━━━━━┳━━━━━━━━━━━━━━━━━┓\n",
              "┃\u001b[1m \u001b[0m\u001b[1mLayer (type)                        \u001b[0m\u001b[1m \u001b[0m┃\u001b[1m \u001b[0m\u001b[1mOutput Shape               \u001b[0m\u001b[1m \u001b[0m┃\u001b[1m \u001b[0m\u001b[1m        Param #\u001b[0m\u001b[1m \u001b[0m┃\n",
              "┡━━━━━━━━━━━━━━━━━━━━━━━━━━━━━━━━━━━━━━╇━━━━━━━━━━━━━━━━━━━━━━━━━━━━━╇━━━━━━━━━━━━━━━━━┩\n",
              "│ conv2d_42 (\u001b[38;5;33mConv2D\u001b[0m)                   │ (\u001b[38;5;45mNone\u001b[0m, \u001b[38;5;34m248\u001b[0m, \u001b[38;5;34m198\u001b[0m, \u001b[38;5;34m32\u001b[0m)        │             \u001b[38;5;34m896\u001b[0m │\n",
              "├──────────────────────────────────────┼─────────────────────────────┼─────────────────┤\n",
              "│ max_pooling2d_42 (\u001b[38;5;33mMaxPooling2D\u001b[0m)      │ (\u001b[38;5;45mNone\u001b[0m, \u001b[38;5;34m124\u001b[0m, \u001b[38;5;34m99\u001b[0m, \u001b[38;5;34m32\u001b[0m)         │               \u001b[38;5;34m0\u001b[0m │\n",
              "├──────────────────────────────────────┼─────────────────────────────┼─────────────────┤\n",
              "│ conv2d_43 (\u001b[38;5;33mConv2D\u001b[0m)                   │ (\u001b[38;5;45mNone\u001b[0m, \u001b[38;5;34m122\u001b[0m, \u001b[38;5;34m97\u001b[0m, \u001b[38;5;34m64\u001b[0m)         │          \u001b[38;5;34m18,496\u001b[0m │\n",
              "├──────────────────────────────────────┼─────────────────────────────┼─────────────────┤\n",
              "│ max_pooling2d_43 (\u001b[38;5;33mMaxPooling2D\u001b[0m)      │ (\u001b[38;5;45mNone\u001b[0m, \u001b[38;5;34m61\u001b[0m, \u001b[38;5;34m48\u001b[0m, \u001b[38;5;34m64\u001b[0m)          │               \u001b[38;5;34m0\u001b[0m │\n",
              "├──────────────────────────────────────┼─────────────────────────────┼─────────────────┤\n",
              "│ conv2d_44 (\u001b[38;5;33mConv2D\u001b[0m)                   │ (\u001b[38;5;45mNone\u001b[0m, \u001b[38;5;34m59\u001b[0m, \u001b[38;5;34m46\u001b[0m, \u001b[38;5;34m128\u001b[0m)         │          \u001b[38;5;34m73,856\u001b[0m │\n",
              "├──────────────────────────────────────┼─────────────────────────────┼─────────────────┤\n",
              "│ max_pooling2d_44 (\u001b[38;5;33mMaxPooling2D\u001b[0m)      │ (\u001b[38;5;45mNone\u001b[0m, \u001b[38;5;34m29\u001b[0m, \u001b[38;5;34m23\u001b[0m, \u001b[38;5;34m128\u001b[0m)         │               \u001b[38;5;34m0\u001b[0m │\n",
              "├──────────────────────────────────────┼─────────────────────────────┼─────────────────┤\n",
              "│ flatten_14 (\u001b[38;5;33mFlatten\u001b[0m)                 │ (\u001b[38;5;45mNone\u001b[0m, \u001b[38;5;34m85376\u001b[0m)               │               \u001b[38;5;34m0\u001b[0m │\n",
              "├──────────────────────────────────────┼─────────────────────────────┼─────────────────┤\n",
              "│ dense_28 (\u001b[38;5;33mDense\u001b[0m)                     │ (\u001b[38;5;45mNone\u001b[0m, \u001b[38;5;34m128\u001b[0m)                 │      \u001b[38;5;34m10,928,256\u001b[0m │\n",
              "├──────────────────────────────────────┼─────────────────────────────┼─────────────────┤\n",
              "│ dense_29 (\u001b[38;5;33mDense\u001b[0m)                     │ (\u001b[38;5;45mNone\u001b[0m, \u001b[38;5;34m1\u001b[0m)                   │             \u001b[38;5;34m129\u001b[0m │\n",
              "└──────────────────────────────────────┴─────────────────────────────┴─────────────────┘\n"
            ],
            "text/html": [
              "<pre style=\"white-space:pre;overflow-x:auto;line-height:normal;font-family:Menlo,'DejaVu Sans Mono',consolas,'Courier New',monospace\">┏━━━━━━━━━━━━━━━━━━━━━━━━━━━━━━━━━━━━━━┳━━━━━━━━━━━━━━━━━━━━━━━━━━━━━┳━━━━━━━━━━━━━━━━━┓\n",
              "┃<span style=\"font-weight: bold\"> Layer (type)                         </span>┃<span style=\"font-weight: bold\"> Output Shape                </span>┃<span style=\"font-weight: bold\">         Param # </span>┃\n",
              "┡━━━━━━━━━━━━━━━━━━━━━━━━━━━━━━━━━━━━━━╇━━━━━━━━━━━━━━━━━━━━━━━━━━━━━╇━━━━━━━━━━━━━━━━━┩\n",
              "│ conv2d_42 (<span style=\"color: #0087ff; text-decoration-color: #0087ff\">Conv2D</span>)                   │ (<span style=\"color: #00d7ff; text-decoration-color: #00d7ff\">None</span>, <span style=\"color: #00af00; text-decoration-color: #00af00\">248</span>, <span style=\"color: #00af00; text-decoration-color: #00af00\">198</span>, <span style=\"color: #00af00; text-decoration-color: #00af00\">32</span>)        │             <span style=\"color: #00af00; text-decoration-color: #00af00\">896</span> │\n",
              "├──────────────────────────────────────┼─────────────────────────────┼─────────────────┤\n",
              "│ max_pooling2d_42 (<span style=\"color: #0087ff; text-decoration-color: #0087ff\">MaxPooling2D</span>)      │ (<span style=\"color: #00d7ff; text-decoration-color: #00d7ff\">None</span>, <span style=\"color: #00af00; text-decoration-color: #00af00\">124</span>, <span style=\"color: #00af00; text-decoration-color: #00af00\">99</span>, <span style=\"color: #00af00; text-decoration-color: #00af00\">32</span>)         │               <span style=\"color: #00af00; text-decoration-color: #00af00\">0</span> │\n",
              "├──────────────────────────────────────┼─────────────────────────────┼─────────────────┤\n",
              "│ conv2d_43 (<span style=\"color: #0087ff; text-decoration-color: #0087ff\">Conv2D</span>)                   │ (<span style=\"color: #00d7ff; text-decoration-color: #00d7ff\">None</span>, <span style=\"color: #00af00; text-decoration-color: #00af00\">122</span>, <span style=\"color: #00af00; text-decoration-color: #00af00\">97</span>, <span style=\"color: #00af00; text-decoration-color: #00af00\">64</span>)         │          <span style=\"color: #00af00; text-decoration-color: #00af00\">18,496</span> │\n",
              "├──────────────────────────────────────┼─────────────────────────────┼─────────────────┤\n",
              "│ max_pooling2d_43 (<span style=\"color: #0087ff; text-decoration-color: #0087ff\">MaxPooling2D</span>)      │ (<span style=\"color: #00d7ff; text-decoration-color: #00d7ff\">None</span>, <span style=\"color: #00af00; text-decoration-color: #00af00\">61</span>, <span style=\"color: #00af00; text-decoration-color: #00af00\">48</span>, <span style=\"color: #00af00; text-decoration-color: #00af00\">64</span>)          │               <span style=\"color: #00af00; text-decoration-color: #00af00\">0</span> │\n",
              "├──────────────────────────────────────┼─────────────────────────────┼─────────────────┤\n",
              "│ conv2d_44 (<span style=\"color: #0087ff; text-decoration-color: #0087ff\">Conv2D</span>)                   │ (<span style=\"color: #00d7ff; text-decoration-color: #00d7ff\">None</span>, <span style=\"color: #00af00; text-decoration-color: #00af00\">59</span>, <span style=\"color: #00af00; text-decoration-color: #00af00\">46</span>, <span style=\"color: #00af00; text-decoration-color: #00af00\">128</span>)         │          <span style=\"color: #00af00; text-decoration-color: #00af00\">73,856</span> │\n",
              "├──────────────────────────────────────┼─────────────────────────────┼─────────────────┤\n",
              "│ max_pooling2d_44 (<span style=\"color: #0087ff; text-decoration-color: #0087ff\">MaxPooling2D</span>)      │ (<span style=\"color: #00d7ff; text-decoration-color: #00d7ff\">None</span>, <span style=\"color: #00af00; text-decoration-color: #00af00\">29</span>, <span style=\"color: #00af00; text-decoration-color: #00af00\">23</span>, <span style=\"color: #00af00; text-decoration-color: #00af00\">128</span>)         │               <span style=\"color: #00af00; text-decoration-color: #00af00\">0</span> │\n",
              "├──────────────────────────────────────┼─────────────────────────────┼─────────────────┤\n",
              "│ flatten_14 (<span style=\"color: #0087ff; text-decoration-color: #0087ff\">Flatten</span>)                 │ (<span style=\"color: #00d7ff; text-decoration-color: #00d7ff\">None</span>, <span style=\"color: #00af00; text-decoration-color: #00af00\">85376</span>)               │               <span style=\"color: #00af00; text-decoration-color: #00af00\">0</span> │\n",
              "├──────────────────────────────────────┼─────────────────────────────┼─────────────────┤\n",
              "│ dense_28 (<span style=\"color: #0087ff; text-decoration-color: #0087ff\">Dense</span>)                     │ (<span style=\"color: #00d7ff; text-decoration-color: #00d7ff\">None</span>, <span style=\"color: #00af00; text-decoration-color: #00af00\">128</span>)                 │      <span style=\"color: #00af00; text-decoration-color: #00af00\">10,928,256</span> │\n",
              "├──────────────────────────────────────┼─────────────────────────────┼─────────────────┤\n",
              "│ dense_29 (<span style=\"color: #0087ff; text-decoration-color: #0087ff\">Dense</span>)                     │ (<span style=\"color: #00d7ff; text-decoration-color: #00d7ff\">None</span>, <span style=\"color: #00af00; text-decoration-color: #00af00\">1</span>)                   │             <span style=\"color: #00af00; text-decoration-color: #00af00\">129</span> │\n",
              "└──────────────────────────────────────┴─────────────────────────────┴─────────────────┘\n",
              "</pre>\n"
            ]
          },
          "metadata": {}
        },
        {
          "output_type": "display_data",
          "data": {
            "text/plain": [
              "\u001b[1m Total params: \u001b[0m\u001b[38;5;34m11,021,633\u001b[0m (42.04 MB)\n"
            ],
            "text/html": [
              "<pre style=\"white-space:pre;overflow-x:auto;line-height:normal;font-family:Menlo,'DejaVu Sans Mono',consolas,'Courier New',monospace\"><span style=\"font-weight: bold\"> Total params: </span><span style=\"color: #00af00; text-decoration-color: #00af00\">11,021,633</span> (42.04 MB)\n",
              "</pre>\n"
            ]
          },
          "metadata": {}
        },
        {
          "output_type": "display_data",
          "data": {
            "text/plain": [
              "\u001b[1m Trainable params: \u001b[0m\u001b[38;5;34m11,021,633\u001b[0m (42.04 MB)\n"
            ],
            "text/html": [
              "<pre style=\"white-space:pre;overflow-x:auto;line-height:normal;font-family:Menlo,'DejaVu Sans Mono',consolas,'Courier New',monospace\"><span style=\"font-weight: bold\"> Trainable params: </span><span style=\"color: #00af00; text-decoration-color: #00af00\">11,021,633</span> (42.04 MB)\n",
              "</pre>\n"
            ]
          },
          "metadata": {}
        },
        {
          "output_type": "display_data",
          "data": {
            "text/plain": [
              "\u001b[1m Non-trainable params: \u001b[0m\u001b[38;5;34m0\u001b[0m (0.00 B)\n"
            ],
            "text/html": [
              "<pre style=\"white-space:pre;overflow-x:auto;line-height:normal;font-family:Menlo,'DejaVu Sans Mono',consolas,'Courier New',monospace\"><span style=\"font-weight: bold\"> Non-trainable params: </span><span style=\"color: #00af00; text-decoration-color: #00af00\">0</span> (0.00 B)\n",
              "</pre>\n"
            ]
          },
          "metadata": {}
        }
      ]
    },
    {
      "cell_type": "code",
      "source": [
        "# Configuração do treinamento\n",
        "EPOCHS = 20\n",
        "BATCH_SIZE = 32\n",
        "\n",
        "# Treinando o modelo\n",
        "history = cnn_model.fit(\n",
        "    X_train, y_train,\n",
        "    epochs=EPOCHS,\n",
        "    batch_size=BATCH_SIZE,\n",
        "    validation_data=(X_val, y_val)\n",
        ")"
      ],
      "metadata": {
        "colab": {
          "base_uri": "https://localhost:8080/"
        },
        "id": "ht1O-A7CmgqF",
        "outputId": "81756e27-0983-431d-fb57-8e3605ace73a"
      },
      "execution_count": 57,
      "outputs": [
        {
          "output_type": "stream",
          "name": "stdout",
          "text": [
            "Epoch 1/20\n",
            "\u001b[1m3/3\u001b[0m \u001b[32m━━━━━━━━━━━━━━━━━━━━\u001b[0m\u001b[37m\u001b[0m \u001b[1m22s\u001b[0m 5s/step - accuracy: 0.7566 - loss: 1.4616 - val_accuracy: 0.2857 - val_loss: 0.7944\n",
            "Epoch 2/20\n",
            "\u001b[1m3/3\u001b[0m \u001b[32m━━━━━━━━━━━━━━━━━━━━\u001b[0m\u001b[37m\u001b[0m \u001b[1m17s\u001b[0m 5s/step - accuracy: 0.4669 - loss: 0.7221 - val_accuracy: 0.7143 - val_loss: 0.5212\n",
            "Epoch 3/20\n",
            "\u001b[1m3/3\u001b[0m \u001b[32m━━━━━━━━━━━━━━━━━━━━\u001b[0m\u001b[37m\u001b[0m \u001b[1m20s\u001b[0m 4s/step - accuracy: 0.7186 - loss: 0.4865 - val_accuracy: 0.7500 - val_loss: 0.4483\n",
            "Epoch 4/20\n",
            "\u001b[1m3/3\u001b[0m \u001b[32m━━━━━━━━━━━━━━━━━━━━\u001b[0m\u001b[37m\u001b[0m \u001b[1m20s\u001b[0m 5s/step - accuracy: 0.8229 - loss: 0.4296 - val_accuracy: 0.8750 - val_loss: 0.3844\n",
            "Epoch 5/20\n",
            "\u001b[1m3/3\u001b[0m \u001b[32m━━━━━━━━━━━━━━━━━━━━\u001b[0m\u001b[37m\u001b[0m \u001b[1m21s\u001b[0m 5s/step - accuracy: 0.8882 - loss: 0.3264 - val_accuracy: 0.8929 - val_loss: 0.3414\n",
            "Epoch 6/20\n",
            "\u001b[1m3/3\u001b[0m \u001b[32m━━━━━━━━━━━━━━━━━━━━\u001b[0m\u001b[37m\u001b[0m \u001b[1m19s\u001b[0m 4s/step - accuracy: 0.9223 - loss: 0.2283 - val_accuracy: 0.8750 - val_loss: 0.3302\n",
            "Epoch 7/20\n",
            "\u001b[1m3/3\u001b[0m \u001b[32m━━━━━━━━━━━━━━━━━━━━\u001b[0m\u001b[37m\u001b[0m \u001b[1m22s\u001b[0m 5s/step - accuracy: 0.9223 - loss: 0.1941 - val_accuracy: 0.8393 - val_loss: 0.3689\n",
            "Epoch 8/20\n",
            "\u001b[1m3/3\u001b[0m \u001b[32m━━━━━━━━━━━━━━━━━━━━\u001b[0m\u001b[37m\u001b[0m \u001b[1m19s\u001b[0m 4s/step - accuracy: 0.9198 - loss: 0.1805 - val_accuracy: 0.8571 - val_loss: 0.3594\n",
            "Epoch 9/20\n",
            "\u001b[1m3/3\u001b[0m \u001b[32m━━━━━━━━━━━━━━━━━━━━\u001b[0m\u001b[37m\u001b[0m \u001b[1m13s\u001b[0m 4s/step - accuracy: 0.9606 - loss: 0.1260 - val_accuracy: 0.8571 - val_loss: 0.4055\n",
            "Epoch 10/20\n",
            "\u001b[1m3/3\u001b[0m \u001b[32m━━━━━━━━━━━━━━━━━━━━\u001b[0m\u001b[37m\u001b[0m \u001b[1m13s\u001b[0m 4s/step - accuracy: 0.9475 - loss: 0.0890 - val_accuracy: 0.8571 - val_loss: 0.4678\n",
            "Epoch 11/20\n",
            "\u001b[1m3/3\u001b[0m \u001b[32m━━━━━━━━━━━━━━━━━━━━\u001b[0m\u001b[37m\u001b[0m \u001b[1m22s\u001b[0m 6s/step - accuracy: 1.0000 - loss: 0.0486 - val_accuracy: 0.8571 - val_loss: 0.5781\n",
            "Epoch 12/20\n",
            "\u001b[1m3/3\u001b[0m \u001b[32m━━━━━━━━━━━━━━━━━━━━\u001b[0m\u001b[37m\u001b[0m \u001b[1m19s\u001b[0m 5s/step - accuracy: 0.9840 - loss: 0.0361 - val_accuracy: 0.7679 - val_loss: 0.8036\n",
            "Epoch 13/20\n",
            "\u001b[1m3/3\u001b[0m \u001b[32m━━━━━━━━━━━━━━━━━━━━\u001b[0m\u001b[37m\u001b[0m \u001b[1m19s\u001b[0m 4s/step - accuracy: 0.9539 - loss: 0.1391 - val_accuracy: 0.8571 - val_loss: 0.6775\n",
            "Epoch 14/20\n",
            "\u001b[1m3/3\u001b[0m \u001b[32m━━━━━━━━━━━━━━━━━━━━\u001b[0m\u001b[37m\u001b[0m \u001b[1m22s\u001b[0m 5s/step - accuracy: 0.9461 - loss: 0.0720 - val_accuracy: 0.8750 - val_loss: 0.7224\n",
            "Epoch 15/20\n",
            "\u001b[1m3/3\u001b[0m \u001b[32m━━━━━━━━━━━━━━━━━━━━\u001b[0m\u001b[37m\u001b[0m \u001b[1m19s\u001b[0m 4s/step - accuracy: 0.9318 - loss: 0.1156 - val_accuracy: 0.8393 - val_loss: 0.5393\n",
            "Epoch 16/20\n",
            "\u001b[1m3/3\u001b[0m \u001b[32m━━━━━━━━━━━━━━━━━━━━\u001b[0m\u001b[37m\u001b[0m \u001b[1m22s\u001b[0m 5s/step - accuracy: 1.0000 - loss: 0.0338 - val_accuracy: 0.8214 - val_loss: 0.6279\n",
            "Epoch 17/20\n",
            "\u001b[1m3/3\u001b[0m \u001b[32m━━━━━━━━━━━━━━━━━━━━\u001b[0m\u001b[37m\u001b[0m \u001b[1m13s\u001b[0m 5s/step - accuracy: 1.0000 - loss: 0.0293 - val_accuracy: 0.8571 - val_loss: 0.8193\n",
            "Epoch 18/20\n",
            "\u001b[1m3/3\u001b[0m \u001b[32m━━━━━━━━━━━━━━━━━━━━\u001b[0m\u001b[37m\u001b[0m \u001b[1m13s\u001b[0m 5s/step - accuracy: 0.9947 - loss: 0.0147 - val_accuracy: 0.8750 - val_loss: 0.9607\n",
            "Epoch 19/20\n",
            "\u001b[1m3/3\u001b[0m \u001b[32m━━━━━━━━━━━━━━━━━━━━\u001b[0m\u001b[37m\u001b[0m \u001b[1m12s\u001b[0m 4s/step - accuracy: 1.0000 - loss: 0.0031 - val_accuracy: 0.8214 - val_loss: 0.8916\n",
            "Epoch 20/20\n",
            "\u001b[1m3/3\u001b[0m \u001b[32m━━━━━━━━━━━━━━━━━━━━\u001b[0m\u001b[37m\u001b[0m \u001b[1m12s\u001b[0m 4s/step - accuracy: 1.0000 - loss: 0.0060 - val_accuracy: 0.8214 - val_loss: 0.8803\n"
          ]
        }
      ]
    },
    {
      "cell_type": "markdown",
      "source": [
        "#### 📈 Avaliação do Modelo\n"
      ],
      "metadata": {
        "id": "SRnbpY2dSZaH"
      }
    },
    {
      "cell_type": "code",
      "source": [
        "# Avaliação do desempenho no conjunto de teste\n",
        "test_loss, test_accuracy = cnn_model.evaluate(X_test, y_test)\n",
        "print(f\"Perda no teste: {test_loss:.4f}\")\n",
        "print(f\"Acurácia no teste: {test_accuracy:.4f}\")\n",
        "import matplotlib.pyplot as plt\n",
        "\n",
        "# Plotando perda e acurácia\n",
        "plt.figure(figsize=(12, 4))\n",
        "\n",
        "# Perda\n",
        "plt.subplot(1, 2, 1)\n",
        "plt.plot(history.history['loss'], label='Treinamento')\n",
        "plt.plot(history.history['val_loss'], label='Validação')\n",
        "plt.title('Perda')\n",
        "plt.xlabel('Épocas')\n",
        "plt.ylabel('Perda')\n",
        "plt.legend()\n",
        "\n",
        "# Acurácia\n",
        "plt.subplot(1, 2, 2)\n",
        "plt.plot(history.history['accuracy'], label='Treinamento')\n",
        "plt.plot(history.history['val_accuracy'], label='Validação')\n",
        "plt.title('Acurácia')\n",
        "plt.xlabel('Épocas')\n",
        "plt.ylabel('Acurácia')\n",
        "plt.legend()\n",
        "\n",
        "plt.show()"
      ],
      "metadata": {
        "colab": {
          "base_uri": "https://localhost:8080/",
          "height": 464
        },
        "id": "Xe7-KWZ6YMu-",
        "outputId": "d7595acf-e8e2-4920-92a4-0c4e3c6860ad"
      },
      "execution_count": 58,
      "outputs": [
        {
          "output_type": "stream",
          "name": "stdout",
          "text": [
            "\u001b[1m2/2\u001b[0m \u001b[32m━━━━━━━━━━━━━━━━━━━━\u001b[0m\u001b[37m\u001b[0m \u001b[1m2s\u001b[0m 300ms/step - accuracy: 0.8427 - loss: 0.9258\n",
            "Perda no teste: 0.8895\n",
            "Acurácia no teste: 0.8421\n"
          ]
        },
        {
          "output_type": "display_data",
          "data": {
            "text/plain": [
              "<Figure size 1200x400 with 2 Axes>"
            ],
            "image/png": "[encoded data removed]"
          },
          "metadata": {}
        }
      ]
    }
  ],
  "metadata": {
    "kernelspec": {
      "name": "python3",
      "display_name": "Python 3"
    },
    "language_info": {
      "name": "python"
    },
    "colab": {
      "provenance": [],
      "include_colab_link": true
    }
  },
  "nbformat": 4,
  "nbformat_minor": 0
}